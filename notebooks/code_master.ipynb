{
 "cells": [
  {
   "cell_type": "markdown",
   "metadata": {},
   "source": []
  },
  {
   "cell_type": "code",
   "execution_count": null,
   "metadata": {},
   "outputs": [],
   "source": [
    " emissions_dict = {\n",
    "    31: \"Exhaust Gas Recirculation (EGR) Valve Position\",\n",
    "    84: \"Engine Torque\",\n",
    "    91: \"Accelerator Pedal Position\",\n",
    "    97: \"Water in Fuel Indicator\",\n",
    "    108: \"Engine Coolant Temperature\",\n",
    "    120: \"Oil Pressure\",\n",
    "    123: \"Boost Pressure\",\n",
    "    305: \"Exhaust Gas Temperature 1\",\n",
    "    356: \"Aftertreatment Diesel Particulate Filter Differential Pressure\",\n",
    "    411: \"Engine Exhaust Gas Recirculation (EGR) Mass Flow Rate\",\n",
    "    436: \"Engine Oil Pressure Low\",\n",
    "    512: \"Aftertreatment 1 Exhaust Gas Temperature Sensor 3\",\n",
    "    513: \"Aftertreatment 1 Diesel Oxidation Catalyst System Efficiency\",\n",
    "    515: \"Aftertreatment 1 Diesel Particulate Filter System Efficiency\",\n",
    "    524: \"Aftertreatment 1 Diesel Exhaust Fluid Dosing Unit Temperature\",\n",
    "    531: \"Aftertreatment 1 Diesel Particulate Filter Intake Gas Temperature\",\n",
    "    574: \"Engine Exhaust Gas Recirculation (EGR) Temperature\",\n",
    "    583: \"Aftertreatment 1 Particulate Matter Trap Differential Pressure\",\n",
    "    596: \"Aftertreatment 1 Diesel Particulate Filter Regeneration Request\",\n",
    "    597: \"Aftertreatment 1 Diesel Particulate Filter Regeneration Inhibit Switch\",\n",
    "    599: \"Aftertreatment 1 Diesel Particulate Filter System Active Regeneration Inhibit Reason\",\n",
    "    601: \"Aftertreatment 1 Diesel Particulate Filter System Active Regeneration Request\",\n",
    "    602: \"Aftertreatment 1 Diesel Particulate Filter System Active Regeneration Status\",\n",
    "    611: \"Aftertreatment 1 Diesel Exhaust Fluid (DEF) Quantity\",\n",
    "    612: \"Aftertreatment 1 Diesel Exhaust Fluid (DEF) Air Pressure\",\n",
    "    636: \"Engine Turbocharger 1 Compressor Intake Pressure\",\n",
    "    651: \"Engine Turbocharger 1 Speed\",\n",
    "    659: \"Engine Fuel Injection Timing\",\n",
    "    677: \"Diesel Exhaust Fluid (DEF) Tank Level\",\n",
    "    678: \"Diesel Exhaust Fluid (DEF) Pressure\",\n",
    "    698: \"Aftertreatment 1 Diesel Exhaust Fluid System Fault\",\n",
    "    799: \"Aftertreatment 1 Diesel Particulate Filter Differential Pressure Sensor, Signal Not Plausible\",\n",
    "    1053: \"Diesel Particulate Filter (DPF) Pressure Sensor Circuit - Voltage Above Normal or Shorted to High Source\",\n",
    "    1054: \"Diesel Particulate Filter (DPF) Pressure Sensor Circuit - Voltage Below Normal or Shorted to Low Source\",\n",
    "    1055: \"Diesel Particulate Filter (DPF) Pressure - Data Valid But Above Normal Operational Range - Moderately Severe Level\",\n",
    "    1056: \"Diesel Particulate Filter (DPF) Pressure - Data Valid But Above Normal Operational Range - Most Severe Level\",\n",
    "    1057: \"Diesel Particulate Filter (DPF) Pressure - Data Valid But Below Normal Operational Range - Moderately Severe Level\",\n",
    "    1058: \"Diesel Particulate Filter (DPF) Pressure - Data Valid But Below Normal Operational Range - Most Severe Level\",\n",
    "    1061: \"Aftertreatment Diesel Particulate Filter Differential Pressure - Data Valid But Below Normal Operating Range - Moderately Severe Level\"\n",
    "}"
   ]
  }
 ],
 "metadata": {
  "kernelspec": {
   "display_name": "base",
   "language": "python",
   "name": "python3"
  },
  "language_info": {
   "codemirror_mode": {
    "name": "ipython",
    "version": 3
   },
   "file_extension": ".py",
   "mimetype": "text/x-python",
   "name": "python",
   "nbconvert_exporter": "python",
   "pygments_lexer": "ipython3",
   "version": "3.9.16"
  },
  "orig_nbformat": 4
 },
 "nbformat": 4,
 "nbformat_minor": 2
}
